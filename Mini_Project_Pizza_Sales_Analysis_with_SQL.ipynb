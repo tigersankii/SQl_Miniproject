{
 "cells": [
  {
   "cell_type": "code",
   "execution_count": null,
   "id": "3ae9e576",
   "metadata": {},
   "outputs": [],
   "source": [
    "'''\n",
    "\n",
    "\n",
    "Mini Project: Pizza Sales Analysis with SQL\n",
    "\n",
    "\n",
    "Problem Statement: \n",
    "\n",
    "This SQL project involves analyzing a pizza sales dataset to gain insights about sales patterns, order distributions, and revenue. The dataset contains details about customer orders, pizzas, their categories, and prices. Students will be required to write SQL queries to extract and analyze data based on a series of progressively challenging questions.\n",
    "\n",
    "\n",
    "Dataset Link: https://drive.google.com/file /d/lwfqpxZyATIZTZFnG_W WEXUBl9BIa08GD/view?us p=sharing\n",
    "\n",
    "\n",
    "Guidelines for Students:\n",
    "\n",
    "1. Data Understanding:\n",
    "○ Understand the structure of the dataset by inspecting the tables and their relationships.\n",
    "○ Familiarize yourself with the schema, particularly the pizza categories, order details, and sales records.\n",
    "\n",
    "\n",
    "2. Data Exploration:\n",
    "○ Analyze the dataset by writing queries to retrieve basic information such as the total number of orders, revenue, and frequently ordered items.\n",
    "\n",
    "\n",
    "3. Advanced Analysis:\n",
    "○ Perform more complex queries involving joins and groupings to calculate metrics like revenue distribution, pizza category sales, and cumulative sales over time.\n",
    "\n",
    "\n",
    "4. Optimization and Interpretation:\n",
    "○ Ensure that your queries are optimized for performance (e.g., using GROUP BY, JOIN operations, and HAVING clauses).\n",
    "○ Interpret the results of each query to understand trends and patterns.\n",
    "\n",
    "\n",
    "'''"
   ]
  },
  {
   "cell_type": "code",
   "execution_count": 2,
   "id": "2235c629",
   "metadata": {},
   "outputs": [
    {
     "name": "stderr",
     "output_type": "stream",
     "text": [
      "C:\\Users\\Hp\\AppData\\Local\\Temp\\ipykernel_4328\\1771143455.py:13: UserWarning: pandas only supports SQLAlchemy connectable (engine/connection) or database string URI or sqlite3 DBAPI2 connection. Other DBAPI2 objects are not tested. Please consider using SQLAlchemy.\n",
      "  df = pd.read_sql('select * from orders', conn)\n"
     ]
    },
    {
     "name": "stdout",
     "output_type": "stream",
     "text": [
      "       order_id        date      time\n",
      "0             1  2015-01-01  11:38:36\n",
      "1             2  2015-01-01  11:57:40\n",
      "2             3  2015-01-01  12:12:28\n",
      "3             4  2015-01-01  12:16:31\n",
      "4             5  2015-01-01  12:21:30\n",
      "...         ...         ...       ...\n",
      "21345     21346  2015-12-31  20:51:07\n",
      "21346     21347  2015-12-31  21:14:37\n",
      "21347     21348  2015-12-31  21:23:10\n",
      "21348     21349  2015-12-31  22:09:54\n",
      "21349     21350  2015-12-31  23:02:05\n",
      "\n",
      "[21350 rows x 3 columns]\n"
     ]
    }
   ],
   "source": [
    "import pymysql\n",
    "import pandas as pd \n",
    "\n",
    "\n",
    "    # Database credentials\n",
    "conn = pymysql.connect(\n",
    "    host= 'localhost',  # Or your MySQL host IP/hostname\n",
    "    user='root',\n",
    "    password = 'Sanket@852003',\n",
    "    database= 'pizza'\n",
    ")\n",
    "    \n",
    "df = pd.read_sql('select * from orders', conn)\n",
    "print(df)\n",
    "    "
   ]
  },
  {
   "cell_type": "code",
   "execution_count": 5,
   "id": "b5d2ce63",
   "metadata": {},
   "outputs": [
    {
     "name": "stderr",
     "output_type": "stream",
     "text": [
      "C:\\Users\\Hp\\AppData\\Local\\Temp\\ipykernel_3408\\939989050.py:1: UserWarning: pandas only supports SQLAlchemy connectable (engine/connection) or database string URI or sqlite3 DBAPI2 connection. Other DBAPI2 objects are not tested. Please consider using SQLAlchemy.\n",
      "  df = pd.read_sql('select * from order_details', conn)\n"
     ]
    },
    {
     "name": "stdout",
     "output_type": "stream",
     "text": [
      "       order_details_id  order_id       pizza_id  quantity\n",
      "0                     1         1     hawaiian_m         1\n",
      "1                     2         2  classic_dlx_m         1\n",
      "2                     3         2  five_cheese_l         1\n",
      "3                     4         2    ital_supr_l         1\n",
      "4                     5         2     mexicana_m         1\n",
      "...                 ...       ...            ...       ...\n",
      "48615             48616     21348  ckn_alfredo_m         1\n",
      "48616             48617     21348  four_cheese_l         1\n",
      "48617             48618     21348   napolitana_s         1\n",
      "48618             48619     21349     mexicana_l         1\n",
      "48619             48620     21350      bbq_ckn_s         1\n",
      "\n",
      "[48620 rows x 4 columns]\n"
     ]
    }
   ],
   "source": [
    "df = pd.read_sql('select * from order_details', conn)\n",
    "print(df)"
   ]
  },
  {
   "cell_type": "code",
   "execution_count": 6,
   "id": "56b9649e",
   "metadata": {},
   "outputs": [
    {
     "name": "stdout",
     "output_type": "stream",
     "text": [
      "   pizza_type_id                                        name category  \\\n",
      "0        bbq_ckn                  The Barbecue Chicken Pizza  Chicken   \n",
      "1       cali_ckn                The California Chicken Pizza  Chicken   \n",
      "2    ckn_alfredo                   The Chicken Alfredo Pizza  Chicken   \n",
      "3      ckn_pesto                     The Chicken Pesto Pizza  Chicken   \n",
      "4     southw_ckn                 The Southwest Chicken Pizza  Chicken   \n",
      "5       thai_ckn                      The Thai Chicken Pizza  Chicken   \n",
      "6       big_meat                          The Big Meat Pizza  Classic   \n",
      "7    classic_dlx                    The Classic Deluxe Pizza  Classic   \n",
      "8       hawaiian                          The Hawaiian Pizza  Classic   \n",
      "9    ital_cpcllo                 The Italian Capocollo Pizza  Classic   \n",
      "10    napolitana                        The Napolitana Pizza  Classic   \n",
      "11   pep_msh_pep  The Pepperoni, Mushroom, and Peppers Pizza  Classic   \n",
      "12     pepperoni                         The Pepperoni Pizza  Classic   \n",
      "13     the_greek                             The Greek Pizza  Classic   \n",
      "14    brie_carre                        The Brie Carre Pizza  Supreme   \n",
      "15     calabrese                         The Calabrese Pizza  Supreme   \n",
      "16     ital_supr                   The Italian Supreme Pizza  Supreme   \n",
      "17  peppr_salami                     The Pepper Salami Pizza  Supreme   \n",
      "18    prsc_argla            The Prosciutto and Arugula Pizza  Supreme   \n",
      "19      sicilian                          The Sicilian Pizza  Supreme   \n",
      "20   soppressata                       The Soppressata Pizza  Supreme   \n",
      "21    spicy_ital                     The Spicy Italian Pizza  Supreme   \n",
      "22  spinach_supr                   The Spinach Supreme Pizza  Supreme   \n",
      "23   five_cheese                       The Five Cheese Pizza   Veggie   \n",
      "24   four_cheese                       The Four Cheese Pizza   Veggie   \n",
      "25  green_garden                      The Green Garden Pizza   Veggie   \n",
      "26   ital_veggie                The Italian Vegetables Pizza   Veggie   \n",
      "27  mediterraneo                     The Mediterranean Pizza   Veggie   \n",
      "28      mexicana                          The Mexicana Pizza   Veggie   \n",
      "29    spin_pesto                     The Spinach Pesto Pizza   Veggie   \n",
      "30   spinach_fet                  The Spinach and Feta Pizza   Veggie   \n",
      "31    veggie_veg           The Vegetables + Vegetables Pizza   Veggie   \n",
      "\n",
      "                                          ingredients  \n",
      "0   Barbecued Chicken, Red Peppers, Green Peppers,...  \n",
      "1   Chicken, Artichoke, Spinach, Garlic, Jalapeno ...  \n",
      "2   Chicken, Red Onions, Red Peppers, Mushrooms, A...  \n",
      "3   Chicken, Tomatoes, Red Peppers, Spinach, Garli...  \n",
      "4   Chicken, Tomatoes, Red Peppers, Red Onions, Ja...  \n",
      "5   Chicken, Pineapple, Tomatoes, Red Peppers, Tha...  \n",
      "6   Bacon, Pepperoni, Italian Sausage, Chorizo Sau...  \n",
      "7   Pepperoni, Mushrooms, Red Onions, Red Peppers,...  \n",
      "8            Sliced Ham, Pineapple, Mozzarella Cheese  \n",
      "9   Capocollo, Red Peppers, Tomatoes, Goat Cheese,...  \n",
      "10  Tomatoes, Anchovies, Green Olives, Red Onions,...  \n",
      "11                Pepperoni, Mushrooms, Green Peppers  \n",
      "12                       Mozzarella Cheese, Pepperoni  \n",
      "13  Kalamata Olives, Feta Cheese, Tomatoes, Garlic...  \n",
      "14  Brie Carre Cheese, Prosciutto, Caramelized Oni...  \n",
      "15  ‘Nduja Salami, Pancetta, Tomatoes, Red Onions,...  \n",
      "16  Calabrese Salami, Capocollo, Tomatoes, Red Oni...  \n",
      "17  Genoa Salami, Capocollo, Pepperoni, Tomatoes, ...  \n",
      "18  Prosciutto di San Daniele, Arugula, Mozzarella...  \n",
      "19  Coarse Sicilian Salami, Tomatoes, Green Olives...  \n",
      "20  Soppressata Salami, Fontina Cheese, Mozzarella...  \n",
      "21  Capocollo, Tomatoes, Goat Cheese, Artichokes, ...  \n",
      "22  Spinach, Red Onions, Pepperoni, Tomatoes, Arti...  \n",
      "23  Mozzarella Cheese, Provolone Cheese, Smoked Go...  \n",
      "24  Ricotta Cheese, Gorgonzola Piccante Cheese, Mo...  \n",
      "25  Spinach, Mushrooms, Tomatoes, Green Olives, Fe...  \n",
      "26  Eggplant, Artichokes, Tomatoes, Zucchini, Red ...  \n",
      "27  Spinach, Artichokes, Kalamata Olives, Sun-drie...  \n",
      "28  Tomatoes, Red Peppers, Jalapeno Peppers, Red O...  \n",
      "29  Spinach, Artichokes, Tomatoes, Sun-dried Tomat...  \n",
      "30  Spinach, Mushrooms, Red Onions, Feta Cheese, G...  \n",
      "31  Mushrooms, Tomatoes, Red Peppers, Green Pepper...  \n"
     ]
    },
    {
     "name": "stderr",
     "output_type": "stream",
     "text": [
      "C:\\Users\\Hp\\AppData\\Local\\Temp\\ipykernel_3408\\2734359703.py:1: UserWarning: pandas only supports SQLAlchemy connectable (engine/connection) or database string URI or sqlite3 DBAPI2 connection. Other DBAPI2 objects are not tested. Please consider using SQLAlchemy.\n",
      "  df = pd.read_sql('select * from pizza_types', conn)\n"
     ]
    }
   ],
   "source": [
    "df = pd.read_sql('select * from pizza_types', conn)\n",
    "print(df)"
   ]
  },
  {
   "cell_type": "code",
   "execution_count": 7,
   "id": "ae53d237",
   "metadata": {},
   "outputs": [
    {
     "name": "stdout",
     "output_type": "stream",
     "text": [
      "         pizza_id pizza_type_id size  price\n",
      "0       bbq_ckn_s       bbq_ckn    S  12.75\n",
      "1       bbq_ckn_m       bbq_ckn    M  16.75\n",
      "2       bbq_ckn_l       bbq_ckn    L  20.75\n",
      "3      cali_ckn_s      cali_ckn    S  12.75\n",
      "4      cali_ckn_m      cali_ckn    M  16.75\n",
      "..            ...           ...  ...    ...\n",
      "91  spinach_fet_m   spinach_fet    M  16.00\n",
      "92  spinach_fet_l   spinach_fet    L  20.25\n",
      "93   veggie_veg_s    veggie_veg    S  12.00\n",
      "94   veggie_veg_m    veggie_veg    M  16.00\n",
      "95   veggie_veg_l    veggie_veg    L  20.25\n",
      "\n",
      "[96 rows x 4 columns]\n"
     ]
    },
    {
     "name": "stderr",
     "output_type": "stream",
     "text": [
      "C:\\Users\\Hp\\AppData\\Local\\Temp\\ipykernel_3408\\3013992842.py:1: UserWarning: pandas only supports SQLAlchemy connectable (engine/connection) or database string URI or sqlite3 DBAPI2 connection. Other DBAPI2 objects are not tested. Please consider using SQLAlchemy.\n",
      "  df = pd.read_sql('select * from pizzas', conn)\n"
     ]
    }
   ],
   "source": [
    "df = pd.read_sql('select * from pizzas', conn)\n",
    "print(df)"
   ]
  },
  {
   "cell_type": "code",
   "execution_count": 10,
   "id": "5ee14cf4",
   "metadata": {},
   "outputs": [
    {
     "name": "stdout",
     "output_type": "stream",
     "text": [
      "   Total no of order placed\n",
      "0                     21350\n"
     ]
    },
    {
     "name": "stderr",
     "output_type": "stream",
     "text": [
      "C:\\Users\\Hp\\AppData\\Local\\Temp\\ipykernel_3408\\3235878343.py:3: UserWarning: pandas only supports SQLAlchemy connectable (engine/connection) or database string URI or sqlite3 DBAPI2 connection. Other DBAPI2 objects are not tested. Please consider using SQLAlchemy.\n",
      "  df = pd.read_sql('select count(*) \"Total no of order placed\" from orders ', conn)\n"
     ]
    }
   ],
   "source": [
    "# 1. Retrieve the total number of orders placed.\n",
    "\n",
    "df = pd.read_sql('select count(*) \"Total no of order placed\" from orders ', conn)\n",
    "print(df)"
   ]
  },
  {
   "cell_type": "code",
   "execution_count": 20,
   "id": "aabd7dbb",
   "metadata": {},
   "outputs": [
    {
     "name": "stdout",
     "output_type": "stream",
     "text": [
      "   total revanue\n",
      "0      817860.05\n"
     ]
    },
    {
     "name": "stderr",
     "output_type": "stream",
     "text": [
      "C:\\Users\\Hp\\AppData\\Local\\Temp\\ipykernel_3408\\240087501.py:3: UserWarning: pandas only supports SQLAlchemy connectable (engine/connection) or database string URI or sqlite3 DBAPI2 connection. Other DBAPI2 objects are not tested. Please consider using SQLAlchemy.\n",
      "  df = pd.read_sql(' select round(sum(order_details.quantity* pizzas.price),2) \"total revanue\" from order_details join pizzas on pizzas.pizza_id = order_details.pizza_id', conn)\n"
     ]
    }
   ],
   "source": [
    " # 2. Calculate the total revenue generated from pizza sales.\n",
    "    \n",
    "df = pd.read_sql(' select round(sum(order_details.quantity* pizzas.price),2) \"total revanue\" from order_details join pizzas on pizzas.pizza_id = order_details.pizza_id', conn)\n",
    "print(df)"
   ]
  },
  {
   "cell_type": "code",
   "execution_count": 24,
   "id": "929a6c0a",
   "metadata": {},
   "outputs": [
    {
     "name": "stdout",
     "output_type": "stream",
     "text": [
      "   price             name\n",
      "0  35.95  The Greek Pizza\n"
     ]
    },
    {
     "name": "stderr",
     "output_type": "stream",
     "text": [
      "C:\\Users\\Hp\\AppData\\Local\\Temp\\ipykernel_3408\\3147142426.py:4: UserWarning: pandas only supports SQLAlchemy connectable (engine/connection) or database string URI or sqlite3 DBAPI2 connection. Other DBAPI2 objects are not tested. Please consider using SQLAlchemy.\n",
      "  df = pd.read_sql('select pizzas.price, pizza_types.name from pizzas  join pizza_types  on pizza_types.pizza_type_id = pizzas.pizza_type_id order by pizzas.price desc limit 1', conn)\n"
     ]
    }
   ],
   "source": [
    " # 3. Identify the highest-priced pizza.\n",
    "\n",
    "   \n",
    "df = pd.read_sql('select pizzas.price, pizza_types.name from pizzas  join pizza_types  on pizza_types.pizza_type_id = pizzas.pizza_type_id order by pizzas.price desc limit 1', conn)\n",
    "print(df)"
   ]
  },
  {
   "cell_type": "code",
   "execution_count": 5,
   "id": "959006bf",
   "metadata": {},
   "outputs": [
    {
     "name": "stdout",
     "output_type": "stream",
     "text": [
      "  most_common_pizza_size_ordered  order_count\n",
      "0                     big_meat_s         1811\n"
     ]
    },
    {
     "name": "stderr",
     "output_type": "stream",
     "text": [
      "C:\\Users\\Hp\\AppData\\Local\\Temp\\ipykernel_9684\\3668667598.py:1: UserWarning: pandas only supports SQLAlchemy connectable (engine/connection) or database string URI or sqlite3 DBAPI2 connection. Other DBAPI2 objects are not tested. Please consider using SQLAlchemy.\n",
      "  df = pd.read_sql('''SELECT order_details.pizza_id as most_common_pizza_size_ordered, COUNT(*) as order_count\n"
     ]
    }
   ],
   "source": [
    "# 4. Identify the most common pizza size ordered.\n",
    "\n",
    "df = pd.read_sql('''SELECT order_details.pizza_id as most_common_pizza_size_ordered, COUNT(*) as order_count\n",
    "FROM order_details\n",
    "GROUP BY order_details.pizza_id \n",
    "ORDER BY order_count DESC\n",
    "limit 1''', conn)\n",
    "print(df)\n"
   ]
  },
  {
   "cell_type": "code",
   "execution_count": 7,
   "id": "7148ebf8",
   "metadata": {},
   "outputs": [
    {
     "name": "stderr",
     "output_type": "stream",
     "text": [
      "C:\\Users\\Hp\\AppData\\Local\\Temp\\ipykernel_9684\\4218742081.py:3: UserWarning: pandas only supports SQLAlchemy connectable (engine/connection) or database string URI or sqlite3 DBAPI2 connection. Other DBAPI2 objects are not tested. Please consider using SQLAlchemy.\n",
      "  df = pd.read_sql('''SELECT order_details.pizza_id as \"5 most pizza size ordered\", COUNT(*) as quantities\n"
     ]
    },
    {
     "name": "stdout",
     "output_type": "stream",
     "text": [
      "  5 most pizza size ordered  quantities\n",
      "0                big_meat_s        1811\n",
      "1                thai_ckn_l        1365\n",
      "2             five_cheese_l        1359\n",
      "3             four_cheese_l        1273\n",
      "4             classic_dlx_m        1159\n"
     ]
    }
   ],
   "source": [
    "# 5. List the top 5 most ordered pizza types along with their quantities.\n",
    "\n",
    "df = pd.read_sql('''SELECT order_details.pizza_id as \"5 most pizza size ordered\", COUNT(*) as quantities\n",
    "FROM order_details \n",
    "GROUP BY order_details.pizza_id \n",
    "ORDER BY quantities DESC\n",
    "limit 5''', conn)\n",
    "print(df)\n",
    "\n"
   ]
  },
  {
   "cell_type": "code",
   "execution_count": 9,
   "id": "f2b913fb",
   "metadata": {},
   "outputs": [
    {
     "name": "stderr",
     "output_type": "stream",
     "text": [
      "C:\\Users\\Hp\\AppData\\Local\\Temp\\ipykernel_9684\\10507668.py:3: UserWarning: pandas only supports SQLAlchemy connectable (engine/connection) or database string URI or sqlite3 DBAPI2 connection. Other DBAPI2 objects are not tested. Please consider using SQLAlchemy.\n",
      "  df = pd.read_sql('''select category   ,sum(quantity)  as \"Total quantity of each pizza\" from pizzas\n"
     ]
    },
    {
     "name": "stdout",
     "output_type": "stream",
     "text": [
      "  category  Total quantity of each pizza\n",
      "0  Classic                       14888.0\n",
      "1   Veggie                       11649.0\n",
      "2  Supreme                       11987.0\n",
      "3  Chicken                       11050.0\n"
     ]
    }
   ],
   "source": [
    "# 6. Join the necessary tables to find the total quantity of each pizza category ordered.\n",
    "\n",
    "df = pd.read_sql('''select category   ,sum(quantity)  as \"Total quantity of each pizza\" from pizzas \n",
    " join pizza_types \n",
    " on pizza_types.pizza_type_id =  pizzas.pizza_type_id \n",
    " join order_details on order_details.pizza_id = pizzas.pizza_id\n",
    " group by pizza_types.category''', conn)\n",
    "print(df)"
   ]
  },
  {
   "cell_type": "code",
   "execution_count": 11,
   "id": "e450635f",
   "metadata": {},
   "outputs": [
    {
     "name": "stderr",
     "output_type": "stream",
     "text": [
      "C:\\Users\\Hp\\AppData\\Local\\Temp\\ipykernel_9684\\3797458313.py:3: UserWarning: pandas only supports SQLAlchemy connectable (engine/connection) or database string URI or sqlite3 DBAPI2 connection. Other DBAPI2 objects are not tested. Please consider using SQLAlchemy.\n",
      "  df = pd.read_sql('''select hour(time), count(order_details.order_id) from orders\n"
     ]
    },
    {
     "name": "stdout",
     "output_type": "stream",
     "text": [
      "    hour(time)  count(order_details.order_id)\n",
      "0            9                              4\n",
      "1           10                             17\n",
      "2           11                           2672\n",
      "3           12                           6543\n",
      "4           13                           6203\n",
      "5           14                           3521\n",
      "6           15                           3170\n",
      "7           16                           4185\n",
      "8           17                           5143\n",
      "9           18                           5359\n",
      "10          19                           4350\n",
      "11          20                           3487\n",
      "12          21                           2528\n",
      "13          22                           1370\n",
      "14          23                             68\n"
     ]
    }
   ],
   "source": [
    "# 7. Determine the distribution of orders by hour of the day.\n",
    "\n",
    "df = pd.read_sql('''select hour(time), count(order_details.order_id) from orders\n",
    "join order_details\n",
    "on orders.order_id= order_details.order_id\n",
    "group by hour(time)\n",
    "order by hour(time)''', conn)\n",
    "print(df)"
   ]
  },
  {
   "cell_type": "code",
   "execution_count": 21,
   "id": "a0bf1636",
   "metadata": {},
   "outputs": [
    {
     "name": "stderr",
     "output_type": "stream",
     "text": [
      "C:\\Users\\Hp\\AppData\\Local\\Temp\\ipykernel_9684\\1276354298.py:3: UserWarning: pandas only supports SQLAlchemy connectable (engine/connection) or database string URI or sqlite3 DBAPI2 connection. Other DBAPI2 objects are not tested. Please consider using SQLAlchemy.\n",
      "  df = pd.read_sql('''SELECT category , count(order_details.order_id) as pizzas\n"
     ]
    },
    {
     "name": "stdout",
     "output_type": "stream",
     "text": [
      "  category  pizzas\n",
      "0  Classic   14579\n",
      "1   Veggie   11449\n",
      "2  Supreme   11777\n",
      "3  Chicken   10815\n"
     ]
    }
   ],
   "source": [
    "# 8. Join relevant tables to find the category-wise distribution of pizzas.\n",
    "\n",
    "df = pd.read_sql('''SELECT category , count(order_details.order_id) as pizzas\n",
    "FROM pizzas p\n",
    "JOIN pizza_types pt \n",
    "ON p.pizza_type_id = pt.pizza_type_id\n",
    "join order_details\n",
    "on order_details.pizza_id = p.pizza_id\n",
    "GROUP BY pt.category''', conn)\n",
    "print(df)"
   ]
  },
  {
   "cell_type": "code",
   "execution_count": 14,
   "id": "4f7fb230",
   "metadata": {},
   "outputs": [
    {
     "name": "stderr",
     "output_type": "stream",
     "text": [
      "C:\\Users\\Hp\\AppData\\Local\\Temp\\ipykernel_9684\\3327565697.py:3: UserWarning: pandas only supports SQLAlchemy connectable (engine/connection) or database string URI or sqlite3 DBAPI2 connection. Other DBAPI2 objects are not tested. Please consider using SQLAlchemy.\n",
      "  df = pd.read_sql('''select orders.date ,  count(distinct orders.order_id) \"orders\" , sum(quantity) \"total quantity\" , sum(quantity)/count(distinct order_details.order_id) \"average number of pizzas ordered per day.\"\n"
     ]
    },
    {
     "name": "stdout",
     "output_type": "stream",
     "text": [
      "           date  orders  total quantity  \\\n",
      "0    2015-01-01      69           162.0   \n",
      "1    2015-01-02      67           165.0   \n",
      "2    2015-01-03      66           158.0   \n",
      "3    2015-01-04      52           106.0   \n",
      "4    2015-01-05      54           125.0   \n",
      "..          ...     ...             ...   \n",
      "353  2015-12-27      35            89.0   \n",
      "354  2015-12-28      39           102.0   \n",
      "355  2015-12-29      27            80.0   \n",
      "356  2015-12-30      32            82.0   \n",
      "357  2015-12-31      73           178.0   \n",
      "\n",
      "     average number of pizzas ordered per day.  \n",
      "0                                       2.3478  \n",
      "1                                       2.4627  \n",
      "2                                       2.3939  \n",
      "3                                       2.0385  \n",
      "4                                       2.3148  \n",
      "..                                         ...  \n",
      "353                                     2.5429  \n",
      "354                                     2.6154  \n",
      "355                                     2.9630  \n",
      "356                                     2.5625  \n",
      "357                                     2.4384  \n",
      "\n",
      "[358 rows x 4 columns]\n"
     ]
    }
   ],
   "source": [
    "# 9. Group the orders by date and calculate the average number of pizzas ordered per day.\n",
    "\n",
    "df = pd.read_sql('''select orders.date ,  count(distinct orders.order_id) \"orders\" , sum(quantity) \"total quantity\" , sum(quantity)/count(distinct order_details.order_id) \"average number of pizzas ordered per day.\"\n",
    "from orders\n",
    "join order_details \n",
    "on  order_details.order_id = orders.order_id \n",
    "group by orders.date''', conn)\n",
    "print(df)\n"
   ]
  },
  {
   "cell_type": "code",
   "execution_count": 22,
   "id": "2ae39751",
   "metadata": {},
   "outputs": [
    {
     "name": "stderr",
     "output_type": "stream",
     "text": [
      "C:\\Users\\Hp\\AppData\\Local\\Temp\\ipykernel_9684\\4109372246.py:3: UserWarning: pandas only supports SQLAlchemy connectable (engine/connection) or database string URI or sqlite3 DBAPI2 connection. Other DBAPI2 objects are not tested. Please consider using SQLAlchemy.\n",
      "  df = pd.read_sql('''SELECT pt.name AS pizza_type, SUM(od.quantity * p.price) AS total_revenue\n"
     ]
    },
    {
     "name": "stdout",
     "output_type": "stream",
     "text": [
      "                     pizza_type  total_revenue\n",
      "0        The Thai Chicken Pizza       43434.25\n",
      "1    The Barbecue Chicken Pizza       42768.00\n",
      "2  The California Chicken Pizza       41409.50\n"
     ]
    }
   ],
   "source": [
    "# 10. Determine the top 3 most ordered pizza types based on revenue.\n",
    "\n",
    "df = pd.read_sql('''SELECT pt.name AS pizza_type, SUM(od.quantity * p.price) AS total_revenue\n",
    "FROM order_details od\n",
    "JOIN pizzas p \n",
    "ON od.pizza_id = p.pizza_id\n",
    "JOIN pizza_types pt \n",
    "ON p.pizza_type_id = pt.pizza_type_id\n",
    "GROUP BY pt.name\n",
    "ORDER BY total_revenue DESC\n",
    "LIMIT 3;''', conn)\n",
    "print(df)"
   ]
  },
  {
   "cell_type": "code",
   "execution_count": 17,
   "id": "c213b16c",
   "metadata": {},
   "outputs": [
    {
     "name": "stderr",
     "output_type": "stream",
     "text": [
      "C:\\Users\\Hp\\AppData\\Local\\Temp\\ipykernel_9684\\2592986375.py:3: UserWarning: pandas only supports SQLAlchemy connectable (engine/connection) or database string URI or sqlite3 DBAPI2 connection. Other DBAPI2 objects are not tested. Please consider using SQLAlchemy.\n",
      "  df = pd.read_sql('''select\n"
     ]
    },
    {
     "name": "stdout",
     "output_type": "stream",
     "text": [
      "    percentage                                        name\n",
      "0         7.34                          The Hawaiian Pizza\n",
      "1         6.33                    The Classic Deluxe Pizza\n",
      "2         5.21                       The Five Cheese Pizza\n",
      "3         5.52                   The Italian Supreme Pizza\n",
      "4         5.44                          The Mexicana Pizza\n",
      "5         5.33                      The Thai Chicken Pizza\n",
      "6         5.90            The Prosciutto and Arugula Pizza\n",
      "7         5.55                  The Barbecue Chicken Pizza\n",
      "8         4.94                             The Greek Pizza\n",
      "9         6.15                   The Spinach Supreme Pizza\n",
      "10        7.07                      The Green Garden Pizza\n",
      "11        5.63                 The Italian Capocollo Pizza\n",
      "12        5.42                     The Spicy Italian Pizza\n",
      "13        6.14                     The Spinach Pesto Pizza\n",
      "14        6.19           The Vegetables + Vegetables Pizza\n",
      "15        5.43                 The Southwest Chicken Pizza\n",
      "16        5.56                The California Chicken Pizza\n",
      "17        7.85                         The Pepperoni Pizza\n",
      "18        5.75                     The Chicken Pesto Pizza\n",
      "19        7.88                          The Big Meat Pizza\n",
      "20        5.83                       The Soppressata Pizza\n",
      "21        5.73                       The Four Cheese Pizza\n",
      "22        6.02                        The Napolitana Pizza\n",
      "23        5.82                         The Calabrese Pizza\n",
      "24        6.09                The Italian Vegetables Pizza\n",
      "25        6.01                     The Mediterranean Pizza\n",
      "26        5.57                     The Pepper Salami Pizza\n",
      "27        6.15                  The Spinach and Feta Pizza\n",
      "28        6.10                          The Sicilian Pizza\n",
      "29        5.80                   The Chicken Alfredo Pizza\n",
      "30        7.13  The Pepperoni, Mushroom, and Peppers Pizza\n",
      "31        4.14                        The Brie Carre Pizza\n"
     ]
    }
   ],
   "source": [
    "# 11. Calculate the percentage contribution of each pizza type to total revenue.\n",
    "\n",
    "df = pd.read_sql('''select \n",
    "round(count(*)*100 / sum(quantity*pizzas.price),2) percentage, pizza_types.name from pizza_types\n",
    "join pizzas on pizza_types.pizza_type_id = pizzas.pizza_type_id\n",
    "join order_details on  order_details.pizza_id = pizzas.pizza_id\n",
    "group by pizza_types.name''', conn)\n",
    "print(df)\n"
   ]
  },
  {
   "cell_type": "code",
   "execution_count": 19,
   "id": "6191bfd6",
   "metadata": {},
   "outputs": [
    {
     "name": "stderr",
     "output_type": "stream",
     "text": [
      "C:\\Users\\Hp\\AppData\\Local\\Temp\\ipykernel_9684\\556575399.py:3: UserWarning: pandas only supports SQLAlchemy connectable (engine/connection) or database string URI or sqlite3 DBAPI2 connection. Other DBAPI2 objects are not tested. Please consider using SQLAlchemy.\n",
      "  df = pd.read_sql('''select hour(time) over_time,sum(quantity*price) revenue from orders\n"
     ]
    },
    {
     "name": "stdout",
     "output_type": "stream",
     "text": [
      "   over_time   revenue\n",
      "0         21  42029.80\n",
      "1         22  22815.15\n",
      "2         23   1121.35\n"
     ]
    }
   ],
   "source": [
    "# 12. Analyze the cumulative revenue generated over time.\n",
    "\n",
    "df = pd.read_sql('''select hour(time) over_time,sum(quantity*price) revenue from orders\n",
    "join order_details\n",
    "on order_details.order_id = orders.order_id\n",
    "join pizzas on pizzas.pizza_id = order_details.pizza_id\n",
    "group by over_time\n",
    "having over_time > 20''', conn)\n",
    "print(df)"
   ]
  },
  {
   "cell_type": "code",
   "execution_count": 20,
   "id": "eaed93c6",
   "metadata": {},
   "outputs": [
    {
     "name": "stderr",
     "output_type": "stream",
     "text": [
      "C:\\Users\\Hp\\AppData\\Local\\Temp\\ipykernel_9684\\3859298937.py:3: UserWarning: pandas only supports SQLAlchemy connectable (engine/connection) or database string URI or sqlite3 DBAPI2 connection. Other DBAPI2 objects are not tested. Please consider using SQLAlchemy.\n",
      "  df = pd.read_sql('''SELECT category, name, pizza_revenue FROM (SELECT pt.category, pt.name,\n"
     ]
    },
    {
     "name": "stdout",
     "output_type": "stream",
     "text": [
      "   category                          name  pizza_revenue\n",
      "0   Chicken        The Thai Chicken Pizza       43434.25\n",
      "1   Chicken    The Barbecue Chicken Pizza       42768.00\n",
      "2   Chicken  The California Chicken Pizza       41409.50\n",
      "3   Classic      The Classic Deluxe Pizza       38180.50\n",
      "4   Classic            The Hawaiian Pizza       32273.25\n",
      "5   Classic           The Pepperoni Pizza       30161.75\n",
      "6   Supreme       The Spicy Italian Pizza       34831.25\n",
      "7   Supreme     The Italian Supreme Pizza       33476.75\n",
      "8   Supreme            The Sicilian Pizza       30940.50\n",
      "9    Veggie         The Four Cheese Pizza       32265.70\n",
      "10   Veggie            The Mexicana Pizza       26780.75\n",
      "11   Veggie         The Five Cheese Pizza       26066.50\n"
     ]
    }
   ],
   "source": [
    "# 13. Determine the top 3 most ordered pizza types based on revenue for each pizza category.\n",
    "\n",
    "df = pd.read_sql('''SELECT category, name, pizza_revenue FROM (SELECT pt.category, pt.name, \n",
    "COALESCE(SUM(od.quantity * p.price), 0) AS pizza_revenue,\n",
    "ROW_NUMBER() OVER (PARTITION BY pt.category ORDER BY SUM(od.quantity * p.price) DESC) AS rn\n",
    "FROM pizza_types pt\n",
    "JOIN pizzas p USING (pizza_type_id)\n",
    "LEFT JOIN order_details od USING (pizza_id)\n",
    "GROUP BY pt.category, pt.name) AS ranked_pizzas\n",
    "WHERE rn <= 3\n",
    "ORDER BY category, pizza_revenue DESC''', conn)\n",
    "print(df)"
   ]
  }
 ],
 "metadata": {
  "kernelspec": {
   "display_name": "Python 3 (ipykernel)",
   "language": "python",
   "name": "python3"
  },
  "language_info": {
   "codemirror_mode": {
    "name": "ipython",
    "version": 3
   },
   "file_extension": ".py",
   "mimetype": "text/x-python",
   "name": "python",
   "nbconvert_exporter": "python",
   "pygments_lexer": "ipython3",
   "version": "3.11.3"
  }
 },
 "nbformat": 4,
 "nbformat_minor": 5
}
